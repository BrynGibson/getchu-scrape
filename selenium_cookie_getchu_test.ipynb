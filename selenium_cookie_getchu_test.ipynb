{
 "cells": [
  {
   "cell_type": "code",
   "execution_count": 1,
   "metadata": {},
   "outputs": [],
   "source": [
    "from selenium import webdriver\n",
    "import pandas as pd\n",
    "import lxml.html\n",
    "from selenium.webdriver.chrome.options import Options \n",
    "options = Options()\n",
    "\n",
    "#driver for laptop\n",
    "driver = webdriver.Chrome(r\"C:\\Users\\SlinkyMalinki\\Desktop\\int app dev\\intermediate-app-dev-concepts\\05-python-5-exceptions-automation-testing\\chromedriver.exe\")\n",
    "\n",
    "# driver for desktop\n",
    "#driver = webdriver.Chrome(r\"C:\\Users\\sloth\\Desktop\\int app dev\\intermediate-app-dev-concepts\\05-python-5-exceptions-automation-testing\\chromedriver.exe\", options=options)\n",
    "\n",
    "# test endpoint url\n",
    "\n",
    "#driver.get(\"http://www.getchu.com/brandnew/1077034/c1077034chara1.jpg\")"
   ]
  },
  {
   "cell_type": "code",
   "execution_count": 15,
   "metadata": {},
   "outputs": [],
   "source": [
    "import http.cookiejar as cookiejar"
   ]
  },
  {
   "cell_type": "code",
   "execution_count": 7,
   "metadata": {},
   "outputs": [],
   "source": [
    "driver.get(\"http://www.getchu.com/soft.phtml?id=745451\")"
   ]
  },
  {
   "cell_type": "code",
   "execution_count": 4,
   "metadata": {},
   "outputs": [],
   "source": [
    "driver.get(\"http://www.getchu.com/\")"
   ]
  },
  {
   "cell_type": "code",
   "execution_count": 3,
   "metadata": {},
   "outputs": [],
   "source": [
    "cookie = {'domain': 'www.getchu.com',\n",
    "  'expiry': 1597737597,\n",
    "  'httpOnly': False,\n",
    "  'name': 'getchu_adalt_flag',\n",
    "  'path': '/',\n",
    "  'secure': False,\n",
    "  'value': '.getchu.com'}\n"
   ]
  },
  {
   "cell_type": "code",
   "execution_count": 5,
   "metadata": {},
   "outputs": [],
   "source": [
    "for cookie in cookies:\n",
    "    \n",
    "    driver.add_cookie(cookie)"
   ]
  },
  {
   "cell_type": "code",
   "execution_count": 10,
   "metadata": {},
   "outputs": [],
   "source": [
    "driver.get(\"http://www.getchu.com/brandnew/1077034/c1077034chara1.jpg\")"
   ]
  },
  {
   "cell_type": "code",
   "execution_count": 6,
   "metadata": {},
   "outputs": [
    {
     "data": {
      "text/plain": [
       "[{'domain': '.getchu.com',\n",
       "  'expiry': 1597884627,\n",
       "  'httpOnly': False,\n",
       "  'name': '_gid',\n",
       "  'path': '/',\n",
       "  'secure': False,\n",
       "  'value': 'GA1.2.596265630.1597797651'},\n",
       " {'domain': '.getchu.com',\n",
       "  'expiry': 1660870227,\n",
       "  'httpOnly': False,\n",
       "  'name': '_ga',\n",
       "  'path': '/',\n",
       "  'secure': False,\n",
       "  'value': 'GA1.2.675859982.1597797651'},\n",
       " {'domain': '.getchu.com',\n",
       "  'expiry': 1597971016,\n",
       "  'httpOnly': False,\n",
       "  'name': 'ITEM_HISTORY',\n",
       "  'path': '/',\n",
       "  'secure': False,\n",
       "  'value': '745451'},\n",
       " {'domain': '.www.getchu.com',\n",
       "  'expiry': 1597971016,\n",
       "  'httpOnly': False,\n",
       "  'name': 'getchu_adalt_flag',\n",
       "  'path': '/',\n",
       "  'secure': False,\n",
       "  'value': 'getchu.com'}]"
      ]
     },
     "execution_count": 6,
     "metadata": {},
     "output_type": "execute_result"
    }
   ],
   "source": [
    "driver.get_cookies()"
   ]
  },
  {
   "cell_type": "code",
   "execution_count": 2,
   "metadata": {},
   "outputs": [],
   "source": [
    "cookies = [{'domain': '.getchu.com',\n",
    "  'expiry': 1597798272,\n",
    "  'httpOnly': False,\n",
    "  'name': '_gat',\n",
    "  'path': '/',\n",
    "  'secure': False,\n",
    "  'value': '1'},\n",
    " {'domain': 'www.getchu.com',\n",
    "  'expiry': 1597971016,\n",
    "  'httpOnly': False,\n",
    "  'name': 'getchu_adalt_flag',\n",
    "  'path': '/',\n",
    "  'secure': False,\n",
    "  'value': 'getchu.com'},\n",
    " {'domain': '.getchu.com',\n",
    "  'expiry': 1597884627,\n",
    "  'httpOnly': False,\n",
    "  'name': '_gid',\n",
    "  'path': '/',\n",
    "  'secure': False,\n",
    "  'value': 'GA1.2.596265630.1597797651'},\n",
    " {'domain': '.getchu.com',\n",
    "  'expiry': 1597971016,\n",
    "  'httpOnly': False,\n",
    "  'name': 'ITEM_HISTORY',\n",
    "  'path': '/',\n",
    "  'secure': False,\n",
    "  'value': '745451'},\n",
    " {'domain': '.getchu.com',\n",
    "  'expiry': 1660870227,\n",
    "  'httpOnly': False,\n",
    "  'name': '_ga',\n",
    "  'path': '/',\n",
    "  'secure': False,\n",
    "  'value': 'GA1.2.675859982.1597797651'}]"
   ]
  },
  {
   "cell_type": "code",
   "execution_count": null,
   "metadata": {},
   "outputs": [],
   "source": []
  }
 ],
 "metadata": {
  "kernelspec": {
   "display_name": "Python 3",
   "language": "python",
   "name": "python3"
  },
  "language_info": {
   "codemirror_mode": {
    "name": "ipython",
    "version": 3
   },
   "file_extension": ".py",
   "mimetype": "text/x-python",
   "name": "python",
   "nbconvert_exporter": "python",
   "pygments_lexer": "ipython3",
   "version": "3.7.6"
  }
 },
 "nbformat": 4,
 "nbformat_minor": 4
}
