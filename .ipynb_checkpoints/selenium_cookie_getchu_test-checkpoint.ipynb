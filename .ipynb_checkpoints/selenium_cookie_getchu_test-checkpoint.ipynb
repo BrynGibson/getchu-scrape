{
 "cells": [
  {
   "cell_type": "code",
   "execution_count": 3,
   "metadata": {},
   "outputs": [],
   "source": [
    "from selenium import webdriver\n",
    "import pandas as pd\n",
    "import lxml.html\n",
    "from selenium.webdriver.chrome.options import Options \n",
    "options = Options()\n",
    "\n",
    "#driver for laptop\n",
    "driver = webdriver.Chrome(r\"C:\\Users\\SlinkyMalinki\\Desktop\\int app dev\\intermediate-app-dev-concepts\\05-python-5-exceptions-automation-testing\\chromedriver.exe\")\n",
    "\n",
    "# driver for desktop\n",
    "#driver = webdriver.Chrome(r\"C:\\Users\\sloth\\Desktop\\int app dev\\intermediate-app-dev-concepts\\05-python-5-exceptions-automation-testing\\chromedriver.exe\", options=options)\n",
    "\n",
    "# test endpoint url\n",
    "\n",
    "#driver.get(\"http://www.getchu.com/brandnew/1077034/c1077034chara1.jpg\")"
   ]
  },
  {
   "cell_type": "code",
   "execution_count": 7,
   "metadata": {},
   "outputs": [],
   "source": [
    "driver.get(\"http://www.getchu.com/soft.phtml?id=745451\")"
   ]
  },
  {
   "cell_type": "code",
   "execution_count": 8,
   "metadata": {},
   "outputs": [],
   "source": [
    "cookie = {'domain': 'www.getchu.com',\n",
    "  'expiry': 1597737597,\n",
    "  'httpOnly': False,\n",
    "  'name': 'getchu_adalt_flag',\n",
    "  'path': '/',\n",
    "  'secure': False,\n",
    "  'value': '.getchu.com'}\n"
   ]
  },
  {
   "cell_type": "code",
   "execution_count": 10,
   "metadata": {},
   "outputs": [],
   "source": [
    "driver.add_cookie(cookie)"
   ]
  },
  {
   "cell_type": "code",
   "execution_count": 11,
   "metadata": {},
   "outputs": [],
   "source": [
    "driver.get(\"http://www.getchu.com/brandnew/1077034/c1077034chara1.jpg\")"
   ]
  },
  {
   "cell_type": "code",
   "execution_count": 8,
   "metadata": {},
   "outputs": [
    {
     "data": {
      "text/plain": [
       "[{'domain': 'www.getchu.com',\n",
       "  'expiry': 1597970200,\n",
       "  'httpOnly': False,\n",
       "  'name': 'getchu_adalt_flag',\n",
       "  'path': '/',\n",
       "  'secure': False,\n",
       "  'value': 'getchu.com'},\n",
       " {'domain': '.getchu.com',\n",
       "  'expiry': 1597883819,\n",
       "  'httpOnly': False,\n",
       "  'name': '_gid',\n",
       "  'path': '/',\n",
       "  'secure': False,\n",
       "  'value': 'GA1.2.2108775792.1597797401'},\n",
       " {'domain': '.getchu.com',\n",
       "  'expiry': 1597970200,\n",
       "  'httpOnly': False,\n",
       "  'name': 'ITEM_HISTORY',\n",
       "  'path': '/',\n",
       "  'secure': False,\n",
       "  'value': '745451'},\n",
       " {'domain': '.getchu.com',\n",
       "  'expiry': 1660869419,\n",
       "  'httpOnly': False,\n",
       "  'name': '_ga',\n",
       "  'path': '/',\n",
       "  'secure': False,\n",
       "  'value': 'GA1.2.1205769087.1597797401'}]"
      ]
     },
     "execution_count": 8,
     "metadata": {},
     "output_type": "execute_result"
    }
   ],
   "source": [
    "driver.get_cookies()"
   ]
  },
  {
   "cell_type": "code",
   "execution_count": null,
   "metadata": {},
   "outputs": [],
   "source": []
  }
 ],
 "metadata": {
  "kernelspec": {
   "display_name": "Python 3",
   "language": "python",
   "name": "python3"
  },
  "language_info": {
   "codemirror_mode": {
    "name": "ipython",
    "version": 3
   },
   "file_extension": ".py",
   "mimetype": "text/x-python",
   "name": "python",
   "nbconvert_exporter": "python",
   "pygments_lexer": "ipython3",
   "version": "3.7.6"
  }
 },
 "nbformat": 4,
 "nbformat_minor": 4
}
