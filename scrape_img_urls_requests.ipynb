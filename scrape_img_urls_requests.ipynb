{
 "cells": [
  {
   "cell_type": "code",
   "execution_count": 75,
   "metadata": {},
   "outputs": [],
   "source": [
    "import lxml.html\n",
    "import pandas as pd\n",
    "import requests\n",
    "from lxml.cssselect import CSSSelector\n"
   ]
  },
  {
   "cell_type": "code",
   "execution_count": 13,
   "metadata": {},
   "outputs": [],
   "source": [
    "def scrape_img_urls(base_url):\n",
    "    r=requests.get(base_url)\n",
    "    \n",
    "    if r.status_code != 200:\n",
    "        print(f\"Error, response code {r.status_code} \")\n",
    "    else:\n",
    "        doc = lxml.html.fromstring(html.content)\n",
    "    "
   ]
  },
  {
   "cell_type": "code",
   "execution_count": 42,
   "metadata": {},
   "outputs": [],
   "source": [
    " r=requests.get(\"http://www.getchu.com/soft.phtml?id=1077034\")"
   ]
  },
  {
   "cell_type": "code",
   "execution_count": 43,
   "metadata": {},
   "outputs": [
    {
     "data": {
      "text/plain": [
       "200"
      ]
     },
     "execution_count": 43,
     "metadata": {},
     "output_type": "execute_result"
    }
   ],
   "source": [
    "r.status_code"
   ]
  },
  {
   "cell_type": "code",
   "execution_count": 106,
   "metadata": {},
   "outputs": [],
   "source": [
    "imageUrl = doc.xpath('//*/@src')"
   ]
  },
  {
   "cell_type": "code",
   "execution_count": 107,
   "metadata": {},
   "outputs": [
    {
     "data": {
      "text/plain": [
       "['http://trial.getchu.com/public/assets/js/jquery.min.js',\n",
       " 'http://trial.getchu.com/public/assets/js/jquery-ui.min.js',\n",
       " 'https://rs.adapf.com/sc/ac86ca37d67bb60689cd44da5ce687d95e28c99d.js',\n",
       " '//rs.adapf.com/redirect.js',\n",
       " 'http://www.getchu.com/common/images/logo_getchu2008_2.gif',\n",
       " 'http://www.getchu.com/common/images/logo_com10th_2.gif',\n",
       " '../ncommon/images/auth_com3.jpg']"
      ]
     },
     "execution_count": 107,
     "metadata": {},
     "output_type": "execute_result"
    }
   ],
   "source": [
    "imageUrl"
   ]
  },
  {
   "cell_type": "code",
   "execution_count": 44,
   "metadata": {},
   "outputs": [],
   "source": [
    "doc = lxml.html.fromstring(r.content)"
   ]
  },
  {
   "cell_type": "code",
   "execution_count": 94,
   "metadata": {},
   "outputs": [
    {
     "ename": "XPathEvalError",
     "evalue": "Invalid expression",
     "output_type": "error",
     "traceback": [
      "\u001b[1;31m---------------------------------------------------------------------------\u001b[0m",
      "\u001b[1;31mXPathEvalError\u001b[0m                            Traceback (most recent call last)",
      "\u001b[1;32m<ipython-input-94-114c10f41fed>\u001b[0m in \u001b[0;36m<module>\u001b[1;34m\u001b[0m\n\u001b[1;32m----> 1\u001b[1;33m \u001b[0masdf\u001b[0m \u001b[1;33m=\u001b[0m \u001b[0mdoc\u001b[0m\u001b[1;33m.\u001b[0m\u001b[0mxpath\u001b[0m\u001b[1;33m(\u001b[0m\u001b[1;34m\"//*/*table\"\u001b[0m\u001b[1;33m)\u001b[0m\u001b[1;33m\u001b[0m\u001b[1;33m\u001b[0m\u001b[0m\n\u001b[0m",
      "\u001b[1;32msrc/lxml/etree.pyx\u001b[0m in \u001b[0;36mlxml.etree._Element.xpath\u001b[1;34m()\u001b[0m\n",
      "\u001b[1;32msrc/lxml/xpath.pxi\u001b[0m in \u001b[0;36mlxml.etree.XPathElementEvaluator.__call__\u001b[1;34m()\u001b[0m\n",
      "\u001b[1;32msrc/lxml/xpath.pxi\u001b[0m in \u001b[0;36mlxml.etree._XPathEvaluatorBase._handle_result\u001b[1;34m()\u001b[0m\n",
      "\u001b[1;31mXPathEvalError\u001b[0m: Invalid expression"
     ]
    }
   ],
   "source": [
    "asdf = doc.xpath(\"//*/*table\")"
   ]
  },
  {
   "cell_type": "code",
   "execution_count": 90,
   "metadata": {},
   "outputs": [],
   "source": [
    "img = asdf[0].xpath(\"//img\")"
   ]
  },
  {
   "cell_type": "code",
   "execution_count": 92,
   "metadata": {},
   "outputs": [],
   "source": [
    "img_url= [i.xpath(\"@src\") for i in img]"
   ]
  },
  {
   "cell_type": "code",
   "execution_count": 97,
   "metadata": {},
   "outputs": [],
   "source": [
    "thing = doc.xpath(\"*//td\")"
   ]
  },
  {
   "cell_type": "code",
   "execution_count": 98,
   "metadata": {},
   "outputs": [
    {
     "data": {
      "text/plain": [
       "[<Element td at 0x1da56bd7cc0>, <Element td at 0x1da56bd7a90>]"
      ]
     },
     "execution_count": 98,
     "metadata": {},
     "output_type": "execute_result"
    }
   ],
   "source": [
    "thing"
   ]
  },
  {
   "cell_type": "code",
   "execution_count": 93,
   "metadata": {
    "scrolled": true
   },
   "outputs": [
    {
     "data": {
      "text/plain": [
       "[['http://www.getchu.com/common/images/logo_getchu2008_2.gif'],\n",
       " ['http://www.getchu.com/common/images/logo_com10th_2.gif'],\n",
       " ['../ncommon/images/auth_com3.jpg']]"
      ]
     },
     "execution_count": 93,
     "metadata": {},
     "output_type": "execute_result"
    }
   ],
   "source": [
    "img_url"
   ]
  },
  {
   "cell_type": "code",
   "execution_count": null,
   "metadata": {},
   "outputs": [],
   "source": [
    "<img src=\"./brandnew/1077034/c1077034chara1.jpg\" alt=\"キャラ1\" style=\"border:none;\">\n",
    "キャラ"
   ]
  },
  {
   "cell_type": "code",
   "execution_count": 110,
   "metadata": {},
   "outputs": [],
   "source": [
    "imageUrl = doc.xpath('//*/@src')"
   ]
  },
  {
   "cell_type": "code",
   "execution_count": 111,
   "metadata": {},
   "outputs": [
    {
     "data": {
      "text/plain": [
       "['http://trial.getchu.com/public/assets/js/jquery.min.js',\n",
       " 'http://trial.getchu.com/public/assets/js/jquery-ui.min.js',\n",
       " 'https://rs.adapf.com/sc/ac86ca37d67bb60689cd44da5ce687d95e28c99d.js',\n",
       " '//rs.adapf.com/redirect.js',\n",
       " 'http://www.getchu.com/common/images/logo_getchu2008_2.gif',\n",
       " 'http://www.getchu.com/common/images/logo_com10th_2.gif',\n",
       " '../ncommon/images/auth_com3.jpg']"
      ]
     },
     "execution_count": 111,
     "metadata": {},
     "output_type": "execute_result"
    }
   ],
   "source": [
    "imageUrl"
   ]
  },
  {
   "cell_type": "code",
   "execution_count": 73,
   "metadata": {},
   "outputs": [],
   "source": [
    "table = doc.xpath(\"//table[1]\")"
   ]
  },
  {
   "cell_type": "code",
   "execution_count": 74,
   "metadata": {},
   "outputs": [
    {
     "ename": "AttributeError",
     "evalue": "'list' object has no attribute 'id'",
     "output_type": "error",
     "traceback": [
      "\u001b[1;31m---------------------------------------------------------------------------\u001b[0m",
      "\u001b[1;31mAttributeError\u001b[0m                            Traceback (most recent call last)",
      "\u001b[1;32m<ipython-input-74-c3e55a696527>\u001b[0m in \u001b[0;36m<module>\u001b[1;34m\u001b[0m\n\u001b[1;32m----> 1\u001b[1;33m \u001b[0mtable\u001b[0m\u001b[1;33m.\u001b[0m\u001b[0mid\u001b[0m\u001b[1;33m\u001b[0m\u001b[1;33m\u001b[0m\u001b[0m\n\u001b[0m",
      "\u001b[1;31mAttributeError\u001b[0m: 'list' object has no attribute 'id'"
     ]
    }
   ],
   "source": [
    "table.id"
   ]
  },
  {
   "cell_type": "code",
   "execution_count": 77,
   "metadata": {},
   "outputs": [],
   "source": [
    "thing = CSSSelector(\"#wrapper > table:nth-child(34)\")"
   ]
  },
  {
   "cell_type": "code",
   "execution_count": 70,
   "metadata": {},
   "outputs": [
    {
     "data": {
      "text/plain": [
       "'\\n'"
      ]
     },
     "execution_count": 70,
     "metadata": {},
     "output_type": "execute_result"
    }
   ],
   "source": [
    "table[0].text"
   ]
  },
  {
   "cell_type": "code",
   "execution_count": 71,
   "metadata": {},
   "outputs": [
    {
     "name": "stdout",
     "output_type": "stream",
     "text": [
      "\n",
      "\n",
      "\n",
      "\n",
      "None\n",
      "[は い]\n",
      "\n",
      "\n",
      "None\n",
      "[いいえ]\n"
     ]
    }
   ],
   "source": [
    "for i in table:\n",
    "    print(i.text)"
   ]
  },
  {
   "cell_type": "code",
   "execution_count": 46,
   "metadata": {},
   "outputs": [
    {
     "name": "stdout",
     "output_type": "stream",
     "text": [
      "<Element table at 0x1da57375770>\n"
     ]
    }
   ],
   "source": [
    "rows = table.g"
   ]
  },
  {
   "cell_type": "code",
   "execution_count": 32,
   "metadata": {},
   "outputs": [],
   "source": [
    "table = doc.xpath(\"/html/body/div[1]/table[4]\")"
   ]
  },
  {
   "cell_type": "code",
   "execution_count": 40,
   "metadata": {},
   "outputs": [
    {
     "data": {
      "text/plain": [
       "<Element table at 0x1da56e183b0>"
      ]
     },
     "execution_count": 40,
     "metadata": {},
     "output_type": "execute_result"
    }
   ],
   "source": [
    "table[0]"
   ]
  },
  {
   "cell_type": "code",
   "execution_count": 27,
   "metadata": {},
   "outputs": [
    {
     "ename": "AttributeError",
     "evalue": "'HtmlElement' object has no attribute 'tostring'",
     "output_type": "error",
     "traceback": [
      "\u001b[1;31m---------------------------------------------------------------------------\u001b[0m",
      "\u001b[1;31mAttributeError\u001b[0m                            Traceback (most recent call last)",
      "\u001b[1;32m<ipython-input-27-b85624f19539>\u001b[0m in \u001b[0;36m<module>\u001b[1;34m\u001b[0m\n\u001b[1;32m----> 1\u001b[1;33m \u001b[0mprint\u001b[0m\u001b[1;33m(\u001b[0m\u001b[0mdoc\u001b[0m\u001b[1;33m.\u001b[0m\u001b[0mtostring\u001b[0m\u001b[1;33m(\u001b[0m\u001b[1;33m)\u001b[0m\u001b[1;33m)\u001b[0m\u001b[1;33m\u001b[0m\u001b[1;33m\u001b[0m\u001b[0m\n\u001b[0m",
      "\u001b[1;31mAttributeError\u001b[0m: 'HtmlElement' object has no attribute 'tostring'"
     ]
    }
   ],
   "source": [
    "print(doc.tostring())"
   ]
  },
  {
   "cell_type": "code",
   "execution_count": 108,
   "metadata": {},
   "outputs": [
    {
     "name": "stdout",
     "output_type": "stream",
     "text": [
      "b'<html lang=\"ja\">\\n<head>\\n<title>Getchu.com&#65306;18&#31105;&#21830;&#21697;</title>\\n\\n<meta http-equiv=\"Content-Style-Type\" content=\"text/css\">\\n<meta http-equiv=\"X-UA-Compatible\" content=\"IE=edge,chrome=1\">\\n<link rel=\"shortcut icon\" href=\"http://www.getchu.com/favicon.ico\" type=\"image/x-icon\">\\n<link rel=\"stylesheet\" type=\"text/css\" href=\"http://www.getchu.com/css/master.css\">\\n\\n<!--\\n<script src=\"//ajax.googleapis.com/ajax/libs/jquery/1.10.1/jquery.min.js\"></script>\\n<script src=\"//ajax.googleapis.com/ajax/libs/jqueryui/1.10.3/jquery-ui.min.js\"></script>\\n-->\\n\\n<script type=\"text/javascript\" src=\"http://trial.getchu.com/public/assets/js/jquery.min.js\"></script>\\n<script type=\"text/javascript\" src=\"http://trial.getchu.com/public/assets/js/jquery-ui.min.js\"></script>\\n<script type=\"text/javascript\">\\n$(function(){\\n        $(\\'.tabs\\').tabs();\\n        $(\\'#tabs\\').tabs();\\n\\t});\\n</script>\\n\\n<!--Ptengine-->\\n<script type=\"text/javascript\">window._pt_lt = new Date().getTime();</script>\\n<!--Ptengine-->\\n<script src=\"https://rs.adapf.com/sc/ac86ca37d67bb60689cd44da5ce687d95e28c99d.js\"></script>\\n<script type=\"text/javascript\" src=\"//rs.adapf.com/redirect.js\" async defer></script>\\n</head>\\n<body>\\n<div id=\"wrapper\">\\n<a name=\"pagetop\"></a>\\n<!--&#12504;&#12483;&#12480; START-->\\n<div style=\"float: left; width:345px; height:60px;margin:0;padding:0;\">\\n<a href=\"http://www.getchu.com/\"><img src=\"http://www.getchu.com/common/images/logo_getchu2008_2.gif\" width=\"247\" height=\"60\" border=\"0\" style=\"margin:0;padding:0;\" title=\"top&#12408;\"><img src=\"http://www.getchu.com/common/images/logo_com10th_2.gif\" width=\"97\" height=\"60\" border=\"0\" title=\"TOP\"></a>\\n</div>\\n\\n<!--\\n<div style=\"float:left;width:240px;height:60px;margin:0;padding:0;background: #e0e0e0 url(http://www.getchu.com/common/images/speech-bubble.gif) no-repeat left top;overflow:hidden;\">\\n\\n\\n<p style=\"margin:4px 5px 4px 14px;padding:0;line-height:1.3em;\">\\n<a href=\"http://www.getchu.com/soft.phtml?id=877668\">\\n<img src=\"http://www.getchu.com/brandnew/877668/c877668icon_50.jpg\" align=\"right\" style=\"border:1px solid #EEE; width:50px; height:50px;\">\\nTV&#12450;&#12491;&#12513;&#21270;&#12418;&#27770;&#23450;&#12375;&#12383;&#12501;&#12525;&#12531;&#12488;&#12454;&#12452;&#12531;&#12464;&#26368;&#26032;&#20316;&#12302;ISLAND&#12303;&#29305;&#20856;&#20184;&#12391;&#12372;&#20104;&#32004;&#21463;&#20184;&#20013;&#65281;&#65281;</a>\\n</p>\\n\\n\\n</div>\\n-->\\n\\n<style>\\n.top_selector{\\nbackground:#fff;\\nborder-top:1px solid #0066CC;\\nborder-right:1px solid #0066CC;\\nborder-left:5px solid #0066CC;\\nborder-bottom:1px solid #0066CC;\\npadding:5px;\\nmargin:3px 3px 0 3px;\\nfloat:left;\\nwidth:75px;\\nheight:20px:\\n}\\n.top_selector a{color: #494949;}\\n\\n.takiba{\\n    border-top:1px solid #0066CC;\\n    border-right:1px solid #0066CC;\\n    border-left:5px solid #0066CC;\\n    border-bottom:1px solid #0066CC;\\n}\\n\\n.tadult{\\n    border-top:1px solid #ffccff;\\n    border-right:1px solid #ffccff;\\n    border-left:5px solid #ffccff;\\n    border-bottom:1px solid #ffccff;\\n}\\n\\n.ttwitter{\\n    border-top:1px solid #6699FF;\\n    border-right:1px solid #6699FF;\\n    border-left:5px solid #6699FF;\\n    border-bottom:1px solid #6699FF;\\n}\\n\\n</style>\\n<div style=\"float:right;width:292px;height:60px;margin-right:3px;\">\\n<div class=\"top_selector\"><a href=\"https://ssl.getchu.com/comike/mypage/\">&#12510;&#12452;&#12506;&#12540;&#12472;</a></div>\\n<div class=\"top_selector\"><a href=\"http://www.getchu.com/info/\">&#12372;&#21033;&#29992;&#12460;&#12452;&#12489;</a></div>\\n<div class=\"top_selector\"><a href=\"http://www.getchu.com/history/\">&#12454;&#12455;&#12502;&#23653;&#27508;</a></div>\\n<div class=\"top_selector ttwitter\"><a href=\"https://twitter.com/getchucom_n\" target=\"_blank\">Twitter</a></div>\\n<div class=\"top_selector takiba\"><a href=\"http://www.getchu.com/getchu/shop.html\">&#12354;&#12365;&#12400;&#24215;</a></div>\\n<div class=\"top_selector tadult\"><a href=\"http://www.getchu.com/top.html\">&#12450;&#12480;&#12523;&#12488;TOP</a></div>\\n</div>\\n<br style=\"clear: left\">\\n\\n\\n<style type=\"text/css\">\\n.current a,.current a:visited{\\nbackground-color: #0066CC;\\ncolor: #fff;\\nfont-weight:bold;\\n}\\n#colortabsline{background-color: #0066CC;}\\nselect , input{\\n\\tfont-family: \"MS PGothic\";\\n}\\n</style>\\n<div class=\"ui-headtabs ui-widget ui-widget-content2 ui-corner-all\" style=\"float:left;\">\\n\\n\\t\\t<ul class=\"headtabs ui-headtabs-nav ui-helper-reset\">\\n\\t\\t<li class=\"genretab tabtop\"><a href=\"http://www.getchu.com/index.html\">TOP</a></li>\\n\\t\\t<li class=\"genretab tabpc\"><a href=\"http://www.getchu.com/npc/\">&#12466;&#12540;&#12512;</a></li>\\n\\t\\t<li class=\"genretab tabanime\"><a href=\"http://www.getchu.com/nanime/\">&#12450;&#12491;&#12513;</a></li>\\n\\t\\t<li class=\"genretab tabmusic\"><a href=\"http://www.getchu.com/nmusic/\">&#38899;&#27005;</a></li>\\n\\t\\t<li class=\"genretab tabgoods\"><a href=\"http://www.getchu.com/ngoods/\">&#12464;&#12483;&#12474;</a></li>\\n\\t\\t<li class=\"genretab tabdakimakura\"><a href=\"http://www.getchu.com/goods/dakimakura.html?age=normal\">&#25265;&#12365;&#26517;</a></li>\\n\\t\\t<li class=\"genretab tabbooks\"><a href=\"http://www.getchu.com/books/?age=normal\">&#26360;&#31821;&#12539;&#38609;&#35468;</a></li>\\n\\t\\t<li class=\"genretab tabdoujin\"><a href=\"http://www.getchu.com/ndoujin/\">&#21516;&#20154;</a></li>\\n\\t\\t<li class=\"genretab tabboys\"><a href=\"http://www.getchu.com/nboys/\">&#22899;&#24615;&#21521;</a></li>\\n\\t\\t<li class=\"genretab tabdl\"><a href=\"http://www.getchu.com/ndl/\">DL</a></li>\\n\\n\\n\\t\\t<li class=\"genretab tabadult\"><a href=\"http://www.getchu.com/top.html\">&#12450;&#12480;&#12523;&#12488;</a></li>\\n\\t\\t<li class=\"genretab tabblog\" style=\"margin-left:5px;\"><a href=\"http://www.getchu.com/blog/\">&#12502;&#12525;&#12464;</a></li>\\n\\t\\t<!--<li class=\"genretab tabakiba\"><a href=\"http://www.getchu.com/getchu/shop.html\">&#12354;&#12365;&#12400;&#24215;</a></li>-->\\n</ul>\\n</div>\\n\\n<div id=\"colortabsline\">&#160;</div>\\n<style>\\n#search_container {\\nwidth: 100%;\\nmargin: 0 auto;\\n}\\n#search_containerInner {\\nwidth: 100%;\\nheight: 25px;\\npadding: 3px;\\n}\\n\\n#search_nav {\\nfloat: left;\\nwidth: 135px; /* &#24038;&#12469;&#12452;&#12489;&#12496;&#12540;&#12398;&#24133; */\\nmargin-right: -135px; /* &#24038;&#12469;&#12452;&#12489;&#12496;&#12540;&#12398;&#24133; */\\nposition: relative;\\nz-index: 2;\\n}\\n\\n#search_content {\\nfloat: left;\\nwidth: 100%;\\nmargin-right: -526px; /* &#21491;&#12469;&#12452;&#12489;&#12496;&#12540;&#12398;&#24133; */\\nposition: relative;\\nz-index: 1;\\n}\\n#search_contentInner {\\ndisplay:block;\\nmargin-left: 135px; /* &#24038;&#12469;&#12452;&#12489;&#12496;&#12540;&#12398;&#24133; */\\nmargin-right: 535px; /* &#21491;&#12469;&#12452;&#12489;&#12496;&#12540;&#12398;&#24133; */\\n}\\n\\n#search_aside {\\nfloat: left;\\nwidth: 524px; /* &#21491;&#12469;&#12452;&#12489;&#12496;&#12540;&#12398;&#24133; */\\nposition: relative;\\nz-index: 3;\\n}\\n\\n.search_text {\\nwidth:100%;\\n}\\n\\n</style>\\n\\n<div class=\"header_search\">\\n\\n<div id=\"search_container\">\\n<div id=\"search_containerInner\">\\n\\n<div id=\"search_nav\">\\n<form name=\"formsearch\" method=\"GET\" action=\"http://www.getchu.com/php/nsearch.phtml\" style=\"display: inline\">\\n<select name=\"genre\" class=\"search_select\" style=\"margin:0;padding:4px;height:26px;\">\\n<option value=\"all\">&#12377;&#12409;&#12390;&#12398;&#12472;&#12515;&#12531;&#12523;</option>\\n<option value=\"pc_soft\">&#12466;&#12540;&#12512;</option>\\n<option value=\"anime_dvd\">&#12450;&#12491;&#12513;</option>\\n<option value=\"music_cd\">&#38899;&#27005;</option>\\n<option value=\"goods\">&#12464;&#12483;&#12474;</option>\\n<option value=\"books\">&#26360;&#31821;</option>\\n<option value=\"magazine\">&#38609;&#35468;</option>\\n<option value=\"dvd_game\">PlayersGame</option>\\n<option value=\"doujin\">&#21516;&#20154;</option>\\n<option value=\"all_lady\">&#22899;&#24615;&#21521;</option>\\n<option value=\"all_dl\">&#12480;&#12454;&#12531;&#12525;&#12540;&#12489;&#20316;&#21697;</option>\\n<option value=\"adultgoods\">&#12450;&#12480;&#12523;&#12488;&#12464;&#12483;&#12474;</option>\\n<option value=\"movie\">&#23455;&#20889;</option>\\n</select>\\n</form>\\n</div>\\n\\n<div id=\"search_content\">\\n<div id=\"search_contentInner\">\\n<input type=\"text\" name=\"search_keyword\" maxlength=\"256\" istyle=\"1\" class=\"search_text\"><input type=\"hidden\" name=\"check_key_dtl\" value=\"1\">\\n</div>\\n</div>\\n\\n<div id=\"search_aside\">\\n<button type=\"submit\" name=\"submit\" value=\"\" class=\"header_search_button ui-default-button ui-button ui-widget ui-state-default ui-corner-all ui-button-text-icon-primary\" role=\"button\"><span class=\"ui-button-icon-primary ui-icon ui-icon-search\"></span><span class=\"ui-button-text\">&#160;</span></button>\\n<button onclick=\"location.href=\\'http://www.getchu.com/php/nsearch_top.phtml\\'\" class=\"header_detail ui-default-button ui-button ui-widget ui-state-default ui-corner-all ui-button-text-icon-secondary\" role=\"button\">\\n<span class=\"ui-button-text\">&#35443;&#32048;&#26908;&#32034;</span>\\n<span class=\"ui-button-icon-secondary ui-icon ui-icon-triangle-1-s\"></span>\\n</button>\\n\\n<button onclick=\"location.href=\\'/campaign/\\'\" class=\"header_detail ui-default-button ui-button ui-widget ui-state-default ui-corner-all ui-button-text-icon-secondary\" role=\"button\" style=\"width:115px;\">\\n<span class=\"ui-button-text\">&#12461;&#12515;&#12531;&#12506;&#12540;&#12531;</span>\\n<span class=\"ui-button-icon-secondary ui-icon ui-icon-triangle-1-s\"></span>\\n</button>\\n\\n<button onclick=\"location.href=\\'https://ssl.getchu.com/comike/mypage/af_wish_list.phtml\\'\" class=\"header_wish ui-default-button ui-button ui-widget ui-state-default ui-corner-all ui-button-text-icon-primary\" role=\"button\">\\n<span class=\"ui-button-icon-primary ui-icon ui-icon-star\"></span>\\n<span class=\"ui-button-text\">&#12362;&#27671;&#12395;&#20837;&#12426;</span>\\n</button>\\n\\n<button onclick=\"location.href=\\'https://ssl.getchu.com/comike/cart.phtml?\\'\" class=\"header_cart ui-default-button ui-button ui-widget ui-state-default ui-corner-all ui-button-text-icon-primary\" role=\"button\">\\n<span class=\"ui-button-icon-primary ui-icon ui-icon-cart\"></span>\\n<span class=\"ui-button-text\">&#12459;&#12540;&#12488;&#12434;&#35211;&#12427;</span>\\n</button>\\n</div>\\n\\n</div>\\n</div>\\n<div id=\"slantedmenu2\">\\n<ul>\\n<li><a href=\"http://www.getchu.com/nall/month_title.html?genre=pc_soft\">&#20170;&#26376;&#12398;&#12479;&#12452;&#12488;&#12523;</a></li>\\n<li><a href=\"http://www.getchu.com/ranking/\">&#12521;&#12531;&#12461;&#12531;&#12464;</a></li>\\n<li><a href=\"http://www.getchu.com/nall/rank_reserve.html?genre=pc_soft\">&#20104;&#32004;</a></li>\\n<li><a href=\"http://www.getchu.com/nall/rank_sales.html?genre=pc_soft\">&#12475;&#12540;&#12523;&#12473;</a></li>\\n<li><a href=\"http://www.getchu.com/nall/brand.html?genre=pc_soft\">&#12502;&#12521;&#12531;&#12489;&#19968;&#35239;</a></li>\\n<li><a href=\"http://www.getchu.com/nall/novelty.html?genre=pc_soft\">&#29305;&#20856;&#20184;</a></li>\\n<li><a href=\"http://www.getchu.com/nall/novelty_images.html?genre=pc_soft\">&#29305;&#20856;&#30011;&#20687;</a></li>\\n<li><a href=\"http://www.getchu.com/nall/change.html?genre=pc_soft\">&#30330;&#22770;&#26085;&#22793;&#26356;&#24773;&#22577;</a></li>\\n<li><a href=\"https://twitter.com/getchucom\">Twitter</a></li>\\n<li><a href=\"http://www.getchu.com/getchu/mail.html\">&#12513;&#12523;&#12510;&#12460;</a></li>\\n<li><a href=\"https://ssl.getchu.com/comike/present.html\">&#20250;&#21729;&#12503;&#12524;&#12476;&#12531;&#12488;</a></li>\\n</ul>\\n</div>\\n</div>\\n<div id=\"highslide-container\"></div>\\n\\n<div style=\"text-align:center;\">\\n<img src=\"../ncommon/images/auth_com3.jpg\" style=\"width:300px;height:268px;margin-top:20px;\" alt=\"18&#27507;&#26410;&#28288;&#12398;&#26041;&#12399;&#35211;&#12385;&#12419;&#12480;&#12513;&#12394;&#12435;&#12384;&#12363;&#12425;&#12397;&#65281;\">\\n<div style=\"font-size: 120%;line-height:120%;\">&#12450;&#12480;&#12523;&#12488;&#21830;&#21697;&#12434;&#34920;&#31034;&#12375;&#12424;&#12358;&#12392;&#12375;&#12390;&#12356;&#12414;&#12377;&#12290;<br>\\n18&#27507;&#26410;&#28288;&#12398;&#26041;&#12398;&#12450;&#12463;&#12475;&#12473;&#12399;&#22266;&#12367;&#12362;&#26029;&#12426;&#12356;&#12383;&#12375;&#12414;&#12377;&#12290;<br>\\n<span style=\"color:#CC0000;\">&#12354;&#12394;&#12383;&#12399;18&#27507;&#20197;&#19978;&#12391;&#12377;&#12363;&#65311;</span>\\n</div>\\n\\n<table width=\"100%\">\\n<tr>\\n<td align=\"right\" width=\"50%\" height=\"50\" style=\"padding-right:80px;\">\\n<span style=\"font-size:160%;font-weight:bold;\"><a href=\"http://www.getchu.com/soft.phtml?id=1077034&amp;gc=gc\">[&#12399; &#12356;]</a></span>\\n</td>\\n<td align=\"left\" width=\"50%\" height=\"50\" style=\"padding-left:80px;\">\\n<span style=\"font-size:160%;font-weight:bold;\"><a href=\"http://www.getchu.com/\">[&#12356;&#12356;&#12360;]</a></span>\\n</td>\\n</tr>\\n</table>\\n</div>\\n\\n<!-- &#24195;&#21578;&#25522;&#36617; START -->\\n<!-- &#24195;&#21578;&#25522;&#36617; END -->\\n\\n<div id=\"banner_auth\" style=\"margin-top:20px; margin-bottom:20px;\">\\n    <div class=\"banner\">\\n        <script>\\n        $(function(){\\n        \\t$.get(\"../mbanner/php/showBannerAsync.php?gid=70\")\\n        \\t.done(function(html) {\\n        \\t\\t$(\"#banner_auth .banner\").append(html);\\n        \\t});\\n        });\\n        </script>\\n    </div>\\n</div>\\n\\n<div id=\"footer\">\\n<div class=\"top_return\">\\n<a href=\"#pagetop\">&#9650;&#12371;&#12398;&#12506;&#12540;&#12472;&#12398;TOP&#12408;</a>\\n</div>\\n\\n<div style=\"width:100%;text-align:center;padding:7px 0px;\">\\n&#65372;<a href=\"http://www.getchu.com/\">&#12488;&#12483;&#12503;&#12408;&#25147;&#12427;</a>&#65372;<a href=\"http://www.getchu.com/mb/\">&#25658;&#24111;&#12469;&#12452;&#12488;Getchu.com mobile</a>&#65372;<a href=\"http://dl.getchu.com/\" target=\"_blank\">&#12480;&#12454;&#12531;&#12525;&#12540;&#12489;&#12469;&#12452;&#12488;DL.Getchu.com</a>&#65372;<a href=\"http://www.getchu.com/affiliate/\">&#12450;&#12501;&#12451;&#12522;&#12456;&#12452;&#12488;</a>&#65372;<a href=\"http://www.getchu.com/recruit/\">&#12473;&#12479;&#12483;&#12501;&#21215;&#38598;</a>&#65372;<a href=\"http://www.getchu.com/info/contact.html\">&#12362;&#21839;&#12356;&#21512;&#12431;&#12379;</a>&#65372;\\n</div>\\n\\n<div style=\"text-align:center; margin:5px; padding:5px 0px; border-top: 1px solid #CCCCCC;\">\\n&#169; Getchu.com 1999-2020</div>\\n\\n</div>\\n\\n<script>\\n   (function(i,s,o,g,r,a,m){i[\\'GoogleAnalyticsObject\\']=r;i[r]=i[r]||function(){\\n   (i[r].q=i[r].q||[]).push(arguments)},i[r].l=1*new Date();a=s.createElement(o),\\n   m=s.getElementsByTagName(o)[0];a.async=1;a.src=g;m.parentNode.insertBefore(a,m)\\n   })(window,document,\\'script\\',\\'//www.google-analytics.com/analytics.js\\',\\'ga\\');\\n\\n    ga(\\'create\\', \\'UA-1332747-1\\', \\'auto\\', {\\'allowLinker\\': true});\\n    ga(\\'require\\', \\'linker\\');\\n    ga(\\'linker:autoLink\\', [\\'getchu.com\\',\\'ssl.getchu.com\\'],true);\\n    ga(\\'set\\', \\'contentGroup1\\', \\'\\');\\n    ga(\\'set\\', \\'contentGroup2\\', \\'\\');\\n    ga(\\'send\\', \\'pageview\\');\\n</script>\\n</div>\\n\\n</body>\\n</html>\\n'\n"
     ]
    }
   ],
   "source": [
    "print(lxml.html.tostring(doc, pretty_print=True))"
   ]
  },
  {
   "cell_type": "code",
   "execution_count": null,
   "metadata": {},
   "outputs": [],
   "source": [
    "#wrapper > table:nth-child(34)"
   ]
  },
  {
   "cell_type": "code",
   "execution_count": 30,
   "metadata": {},
   "outputs": [
    {
     "ename": "TypeError",
     "evalue": "find_rel_links() missing 1 required positional argument: 'rel'",
     "output_type": "error",
     "traceback": [
      "\u001b[1;31m---------------------------------------------------------------------------\u001b[0m",
      "\u001b[1;31mTypeError\u001b[0m                                 Traceback (most recent call last)",
      "\u001b[1;32m<ipython-input-30-f71854c53695>\u001b[0m in \u001b[0;36m<module>\u001b[1;34m\u001b[0m\n\u001b[1;32m----> 1\u001b[1;33m \u001b[0mlinks\u001b[0m \u001b[1;33m=\u001b[0m \u001b[0mdoc\u001b[0m\u001b[1;33m.\u001b[0m\u001b[0mfind_rel_links\u001b[0m\u001b[1;33m(\u001b[0m\u001b[1;33m)\u001b[0m\u001b[1;33m\u001b[0m\u001b[1;33m\u001b[0m\u001b[0m\n\u001b[0m",
      "\u001b[1;31mTypeError\u001b[0m: find_rel_links() missing 1 required positional argument: 'rel'"
     ]
    }
   ],
   "source": [
    "links = doc.find_rel_links()"
   ]
  },
  {
   "cell_type": "code",
   "execution_count": null,
   "metadata": {},
   "outputs": [],
   "source": []
  }
 ],
 "metadata": {
  "kernelspec": {
   "display_name": "Python 3",
   "language": "python",
   "name": "python3"
  },
  "language_info": {
   "codemirror_mode": {
    "name": "ipython",
    "version": 3
   },
   "file_extension": ".py",
   "mimetype": "text/x-python",
   "name": "python",
   "nbconvert_exporter": "python",
   "pygments_lexer": "ipython3",
   "version": "3.8.5"
  }
 },
 "nbformat": 4,
 "nbformat_minor": 4
}
